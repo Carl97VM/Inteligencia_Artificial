{
 "cells": [
  {
   "cell_type": "markdown",
   "metadata": {},
   "source": [
    "# Ejercicio de programación Regresión Lineal"
   ]
  },
  {
   "cell_type": "code",
   "execution_count": 68,
   "metadata": {},
   "outputs": [],
   "source": [
    "# utilizado para manejos de directorios y rutas\n",
    "import os\n",
    "\n",
    "# Computacion vectorial y cientifica para python\n",
    "import numpy as np\n",
    "\n",
    "# Librerias para graficación (trazado de gráficos)\n",
    "from matplotlib import pyplot\n",
    "from mpl_toolkits.mplot3d import Axes3D  # Necesario para graficar superficies 3D\n",
    "\n",
    "# llama a matplotlib a embeber graficas dentro de los cuadernillos\n",
    "%matplotlib inline"
   ]
  },
  {
   "cell_type": "markdown",
   "metadata": {},
   "source": [
    "## 1 Regresión lineal con una variable\n",
    "\n",
    "El archivo `Data/ex1data1.txt` contiene el dataset para el problema de regresion lineal. La primera columna es la problacion de una ciudad (en 10,000s) y la segunda columna es el beneficio que genera un camion de comida en esa ciudad (en $10,000s). Un valor negativo indica una perdida. "
   ]
  },
  {
   "cell_type": "code",
   "execution_count": 69,
   "metadata": {},
   "outputs": [
    {
     "name": "stdout",
     "output_type": "stream",
     "text": [
      "       3         1\n",
      "       4         2\n",
      "       7         3\n",
      "      15         5\n",
      "      17        10\n",
      "      20        50\n",
      "      25       500\n",
      "      27       800\n",
      "      30      6000\n",
      "      33      8000\n"
     ]
    }
   ],
   "source": [
    "# Leer datos separados por una coma\n",
    "data = np.loadtxt(os.path.join('Datasets', 'capacidad_adquisitiva.txt'), delimiter=',')\n",
    "X, y = data[:, :1], data[:, 1]\n",
    "\n",
    "m = y.size  # m = numero de ejemplos de entrenamiento\n",
    "for i in range(10):\n",
    "    print('{:8.0f}{:10.0f}'.format(X[i, 0], y[i]))"
   ]
  },
  {
   "cell_type": "markdown",
   "metadata": {},
   "source": [
    "### 1.1 Trazar los datos"
   ]
  },
  {
   "cell_type": "code",
   "execution_count": 70,
   "metadata": {},
   "outputs": [],
   "source": [
    "def plotData(x, y):\n",
    "    #Grafica los puntos x e y en una figura nueva. \n",
    "    \n",
    "    fig = pyplot.figure()  # abre una nueva figura\n",
    "    \n",
    "    pyplot.plot(x, y, 'ro', ms=10, mec='k')\n",
    "    pyplot.ylabel('Beneficio en $10,000')\n",
    "    pyplot.xlabel('Poblacion de una ciudad en 10,000s')\n"
   ]
  },
  {
   "cell_type": "code",
   "execution_count": 71,
   "metadata": {},
   "outputs": [
    {
     "data": {
      "image/png": "[encoded data removed]",
      "text/plain": [
       "<Figure size 432x288 with 1 Axes>"
      ]
     },
     "metadata": {
      "needs_background": "light"
     },
     "output_type": "display_data"
    }
   ],
   "source": [
    "plotData(X, y)"
   ]
  },
  {
   "cell_type": "code",
   "execution_count": 72,
   "metadata": {},
   "outputs": [
    {
     "name": "stdout",
     "output_type": "stream",
     "text": [
      "[[3.000e+00 9.000e+00]\n",
      " [4.000e+00 1.600e+01]\n",
      " [7.000e+00 4.900e+01]\n",
      " [1.500e+01 2.250e+02]\n",
      " [1.700e+01 2.890e+02]\n",
      " [2.000e+01 4.000e+02]\n",
      " [2.500e+01 6.250e+02]\n",
      " [2.700e+01 7.290e+02]\n",
      " [3.000e+01 9.000e+02]\n",
      " [3.300e+01 1.089e+03]\n",
      " [3.800e+01 1.444e+03]\n",
      " [4.000e+01 1.600e+03]\n",
      " [4.500e+01 2.025e+03]\n",
      " [5.000e+01 2.500e+03]\n",
      " [5.500e+01 3.025e+03]\n",
      " [6.000e+01 3.600e+03]\n",
      " [6.500e+01 4.225e+03]\n",
      " [7.000e+01 4.900e+03]\n",
      " [7.500e+01 5.625e+03]\n",
      " [8.000e+01 6.400e+03]]\n"
     ]
    }
   ],
   "source": [
    "X = np.concatenate([X, X*X],axis=1)\n",
    "print(X)"
   ]
  },
  {
   "cell_type": "markdown",
   "metadata": {},
   "source": [
    "# <a id=\"section2\"></a>\n",
    "### 1.2 Descenso por el gradiente\n",
    "\n",
    "#### 1.2.1 Ecuaciones de actualización\n",
    "\n",
    "El objetivo de la regresion lineal es minimizar la funcion de costo\n",
    "\n",
    "$$ J(\\theta) = \\frac{1}{2m} \\sum_{i=1}^m \\left( h_{\\theta}(x^{(i)}) - y^{(i)}\\right)^2$$\n",
    "\n",
    "donde la hipotesis $h_\\theta(x)$ esta dada por el modelo lineal\n",
    "$$ h_\\theta(x) = \\theta^Tx = \\theta_0 + \\theta_1 x_1$$\n",
    "\n",
    "Los parametros del modelo son los valores $\\theta_j$. Estos son los valores que se ajustaran al costo minimo $J(\\theta)$. Un camino para lograr esto es usar el algoritmo por lotes del descenso por el gradiente. En el descenso por el gradiente por lotes, cada iteracion ejecuta una actualizacion \n",
    "$$ \\theta_j = \\theta_j - \\alpha \\frac{1}{m} \\sum_{i=1}^m \\left( h_\\theta(x^{(i)}) - y^{(i)}\\right)x_j^{(i)} \\qquad \\text{actualizacion simultanea } \\theta_j \\text{ for all } j$$\n",
    "\n",
    "Con cada paso del descenso por el gradiente, los parametros $\\theta_j$ son mas cercanos a los valores optimos que permitiran lograr el costo mas bajo J($\\theta$).\n",
    "\n",
    "#### 1.2.2 Implementación"
   ]
  },
  {
   "cell_type": "code",
   "execution_count": 73,
   "metadata": {},
   "outputs": [],
   "source": [
    "def  featureNormalize(X):\n",
    "    X_norm = X.copy()\n",
    "    mu = np.zeros(X.shape[1])\n",
    "    sigma = np.zeros(X.shape[1])\n",
    "\n",
    "    mu = np.mean(X, axis = 0)\n",
    "    sigma = np.std(X, axis = 0)\n",
    "    X_norm = (X - mu) / sigma\n",
    "    \n",
    "    return X_norm, mu, sigma"
   ]
  },
  {
   "cell_type": "code",
   "execution_count": 74,
   "metadata": {},
   "outputs": [],
   "source": [
    "# llama featureNormalize con los datos cargados\n",
    "X_norm, mu, sigma = featureNormalize(X)\n",
    "\n",
    "#print(X)\n",
    "#print('Media calculada:', mu)\n",
    "#print('Desviación estandar calculada:', sigma)\n",
    "#print(X_norm)"
   ]
  },
  {
   "cell_type": "code",
   "execution_count": 75,
   "metadata": {},
   "outputs": [
    {
     "name": "stdout",
     "output_type": "stream",
     "text": [
      "[[ 1.00000000e+00 -1.49909249e+00 -1.01251109e+00]\n",
      " [ 1.00000000e+00 -1.45620000e+00 -1.00892198e+00]\n",
      " [ 1.00000000e+00 -1.32752253e+00 -9.92001936e-01]\n",
      " [ 1.00000000e+00 -9.84382623e-01 -9.01761677e-01]\n",
      " [ 1.00000000e+00 -8.98597645e-01 -8.68947037e-01]\n",
      " [ 1.00000000e+00 -7.69920178e-01 -8.12034147e-01]\n",
      " [ 1.00000000e+00 -5.55457733e-01 -6.96670180e-01]\n",
      " [ 1.00000000e+00 -4.69672755e-01 -6.43346390e-01]\n",
      " [ 1.00000000e+00 -3.40995288e-01 -5.55669775e-01]\n",
      " [ 1.00000000e+00 -2.12317821e-01 -4.58764043e-01]\n",
      " [ 1.00000000e+00  2.14462445e-03 -2.76745339e-01]\n",
      " [ 1.00000000e+00  8.79296025e-02 -1.96759655e-01]\n",
      " [ 1.00000000e+00  3.02392048e-01  2.11500607e-02]\n",
      " [ 1.00000000e+00  5.16854493e-01  2.64696214e-01]\n",
      " [ 1.00000000e+00  7.31316938e-01  5.33878804e-01]\n",
      " [ 1.00000000e+00  9.45779383e-01  8.28697831e-01]\n",
      " [ 1.00000000e+00  1.16024183e+00  1.14915330e+00]\n",
      " [ 1.00000000e+00  1.37470427e+00  1.49524520e+00]\n",
      " [ 1.00000000e+00  1.58916672e+00  1.86697354e+00]\n",
      " [ 1.00000000e+00  1.80362916e+00  2.26433831e+00]]\n"
     ]
    }
   ],
   "source": [
    "# Añade el termino de interseccion a X\n",
    "# (Columna de unos para X0)\n",
    "#X_norm = np.concatenate([X_norm, X_norm * X_norm], axis=1)\n",
    "X = np.concatenate([np.ones((m, 1)), X_norm], axis=1)\n",
    "print(X)"
   ]
  },
  {
   "cell_type": "markdown",
   "metadata": {},
   "source": [
    "<a id=\"section2\"></a>\n",
    "#### 1.2.3 Cálculo del costo $J(\\theta)$"
   ]
  },
  {
   "cell_type": "code",
   "execution_count": 76,
   "metadata": {},
   "outputs": [],
   "source": [
    "def computeCost(X, y, theta):\n",
    "    # inicializa algunos valores importantes\n",
    "    m = y.size  # numero de ejemplos de entrenamiento\n",
    "   \n",
    "    J = 0\n",
    "    h = np.dot(X, theta)\n",
    "    J = (1/(2 * m)) * np.sum(np.square(np.dot(X, theta) - y))\n",
    "    return J"
   ]
  },
  {
   "cell_type": "markdown",
   "metadata": {},
   "source": [
    "Ejemplo de funcionamiento de la funcion computeCoste con dos valores diferentes de $\\theta$. "
   ]
  },
  {
   "cell_type": "markdown",
   "metadata": {},
   "source": [
    "<a id=\"section3\"></a>\n",
    "#### 1.2.4 Descenso por el gradiente\n",
    "\n",
    "El costo $J(\\theta)$ esta parametrizado por el vector $\\theta$, no $X$ y $y$. Donde hay que minimizar el valor de $J(\\theta)$ cambiando los valores del vector $\\theta$. Una buena manera de verificar si el descenso por el gradiente esta trabajando correctamente es ver los valores de $J(\\theta)$ y verificar si estos decresen en cada paso. \n",
    "\n",
    "<div class=\"alert alert-box alert-warning\">\n",
    "**Vectores y matrices en `numpy`** - Importantes notas para implementación\n",
    "Un vector en `numpy` es un array de una diemension, por ejemplo `np.array([1, 2, 3])` es un vector. Una matriz en `numpy` is un arreglo de dos dimensiones, por ejemplo  `np.array([[1, 2, 3], [4, 5, 6]])`. Sin embargo, lo siguiente todavía se considera una matriz `np.array ([[1, 2, 3]])` ya que tiene dos dimensiones, incluso si tiene una forma de 1x3 (que parece un vector)."
   ]
  },
  {
   "cell_type": "code",
   "execution_count": 77,
   "metadata": {},
   "outputs": [],
   "source": [
    "def gradientDescent(X, y, theta, alpha, num_iters):\n",
    "        # Inicializa algunos valores importantes\n",
    "    m = y.shape[0]  # numero de ejemplos de entrenamiento\n",
    "    \n",
    "    # hace una copia de theta, para evitar cambiar la matriz original, \n",
    "    # ya que las matrices numpy se pasan por referencia a las funciones\n",
    "\n",
    "    theta = theta.copy()\n",
    "    \n",
    "    J_history = [] # Lista que se utiliza para almacenar el costo en cada iteración\n",
    "    \n",
    "    for i in range(num_iters):\n",
    "        theta = theta - (alpha / m) * (np.dot(X, theta) - y).dot(X)\n",
    "        # save the cost J in every iteration\n",
    "        J_history.append(computeCost(X, y, theta))\n",
    "    \n",
    "    return theta, J_history"
   ]
  },
  {
   "cell_type": "markdown",
   "metadata": {},
   "source": [
    "Se inicializan los parametros $\\theta$ con 0 y la taza de aprendizaje $\\alpha$ con 0.01."
   ]
  },
  {
   "cell_type": "code",
   "execution_count": 78,
   "metadata": {},
   "outputs": [
    {
     "name": "stdout",
     "output_type": "stream",
     "text": [
      "theta calculado por el descenso por el gradiente: [  7383.55        20386.20160503 -17114.27964992]\n",
      "El precio predecido para una casa de 1650 sq-ft y 3 dormitorios (usando el descenso por el gradiente): $1434365\n"
     ]
    },
    {
     "data": {
      "image/png": "[encoded data removed]",
      "text/plain": [
       "<Figure size 432x288 with 1 Axes>"
      ]
     },
     "metadata": {
      "needs_background": "light"
     },
     "output_type": "display_data"
    }
   ],
   "source": [
    "# Elegir algun valor para alpha (probar varias alternativas)\n",
    "alpha = 0.01\n",
    "num_iters = 10000\n",
    "\n",
    "# inicializa theta y ejecuta el descenso por el gradiente\n",
    "theta = np.zeros(3)\n",
    "theta, J_history = gradientDescent(X, y, theta, alpha, num_iters)\n",
    "\n",
    "# Grafica la convergencia del costo\n",
    "pyplot.plot(np.arange(len(J_history)), J_history, lw=2)\n",
    "pyplot.xlabel('Numero de iteraciones')\n",
    "pyplot.ylabel('Costo J')\n",
    "\n",
    "# Muestra los resultados del descenso por el gradiente\n",
    "print('theta calculado por el descenso por el gradiente: {:s}'.format(str(theta)))\n",
    "\n",
    "# Estimar el precio para una casa de 1650 sq-ft, con 3 dormitorios\n",
    "X_array = [1, 1650, 3]\n",
    "X_array[1:3] = (X_array[1:3] - mu) / sigma\n",
    "price = np.dot(X_array, theta)   # Se debe cambiar esto\n",
    "\n",
    "print('El precio predecido para una casa de 1650 sq-ft y 3 dormitorios (usando el descenso por el gradiente): ${:.0f}'.format(price))"
   ]
  },
  {
   "cell_type": "markdown",
   "metadata": {},
   "source": [
    "Se utilizan los parametros finales para grafical la linea."
   ]
  },
  {
   "cell_type": "code",
   "execution_count": 79,
   "metadata": {},
   "outputs": [
    {
     "data": {
      "image/png": "[encoded data removed]",
      "text/plain": [
       "<Figure size 432x288 with 1 Axes>"
      ]
     },
     "metadata": {
      "needs_background": "light"
     },
     "output_type": "display_data"
    }
   ],
   "source": [
    "# grafica la linea de ajuste\n",
    "plotData(X[:, 1], y)\n",
    "pyplot.plot(X[:, 1], np.dot(X, theta), '-')\n",
    "pyplot.legend(['Datos de entrenamiento', 'Regresión linear']);"
   ]
  },
  {
   "cell_type": "markdown",
   "metadata": {},
   "source": [
    "Los valores finales de $\\theta$ se utilizaran para realizar predicciones."
   ]
  },
  {
   "cell_type": "code",
   "execution_count": 80,
   "metadata": {},
   "outputs": [],
   "source": [
    "X_array = [1, 23, 529]\n",
    "X_array[1:3] = (X_array[1:3] - mu) / sigma"
   ]
  },
  {
   "cell_type": "code",
   "execution_count": 81,
   "metadata": {},
   "outputs": [
    {
     "name": "stdout",
     "output_type": "stream",
     "text": [
      "7076.453476337313\n"
     ]
    }
   ],
   "source": [
    "X_array[1:3]\n",
    "print(np.dot(X_array, theta))"
   ]
  },
  {
   "cell_type": "code",
   "execution_count": 82,
   "metadata": {},
   "outputs": [],
   "source": [
    "# Cargar datos\n",
    "data = np.loadtxt(os.path.join('Datasets', 'capacidad_adquisitiva.csv'), delimiter=\";\",skiprows=1)\n",
    "X = data[:, :1]\n",
    "y = data[:, 1]\n",
    "m = y.size\n",
    "X_original = X.copy()\n",
    "X = np.concatenate([X, X * X], axis=1)\n",
    "X = np.concatenate([np.ones((m, 1)), X], axis=1)"
   ]
  },
  {
   "cell_type": "code",
   "execution_count": 83,
   "metadata": {},
   "outputs": [],
   "source": [
    "def normalEqn(X, y):\n",
    "  \n",
    "    theta = np.zeros(X.shape[1])\n",
    "    \n",
    "    theta = np.dot(np.dot(np.linalg.inv(np.dot(X.T,X)),X.T),y)\n",
    "    \n",
    "    return theta"
   ]
  },
  {
   "cell_type": "code",
   "execution_count": 84,
   "metadata": {},
   "outputs": [
    {
     "name": "stdout",
     "output_type": "stream",
     "text": [
      "Theta calculado a partir de la ecuación de la normal: [-8774.07355411   901.17335701    -9.09484831]\n",
      "Precio predecido para una cada de superficie de 1650 sq-ft y 3 dormitorios (usando la ecuación de la normal): $5611\n"
     ]
    }
   ],
   "source": [
    "# Calcula los parametros con la ecuación de la normal\n",
    "theta = normalEqn(X, y);\n",
    "\n",
    "# Muestra los resultados optenidos a partir de la aplicación de la ecuación de la normal\n",
    "print('Theta calculado a partir de la ecuación de la normal: {:s}'.format(str(theta)));\n",
    "\n",
    "# Estimar el precio para una casa de superficie de 1650 sq-ft y tres dormitorios\n",
    "\n",
    "X_array = [1, 20, 400]\n",
    "price = np.dot(X_array, theta) \n",
    "\n",
    "print('Precio predecido para una cada de superficie de 1650 sq-ft y 3 dormitorios (usando la ecuación de la normal): ${:.0f}'.format(price))"
   ]
  },
  {
   "cell_type": "code",
   "execution_count": 85,
   "metadata": {},
   "outputs": [
    {
     "data": {
      "text/plain": [
       "[<matplotlib.lines.Line2D at 0x1f0bbe58ac8>]"
      ]
     },
     "execution_count": 85,
     "metadata": {},
     "output_type": "execute_result"
    },
    {
     "data": {
      "image/png": "[encoded data removed]",
      "text/plain": [
       "<Figure size 432x288 with 1 Axes>"
      ]
     },
     "metadata": {
      "needs_background": "light"
     },
     "output_type": "display_data"
    }
   ],
   "source": [
    "plotData(X[:, 1], y)\n",
    "#X = np.concatenate([np.ones((m, 1)), X], axis=1)\n",
    "#X = np.concatenate([X, X * X], axis=1)\n",
    "\n",
    "pyplot.plot(X[:, 1], np.dot(X, theta), '-')"
   ]
  },
  {
   "cell_type": "code",
   "execution_count": null,
   "metadata": {},
   "outputs": [],
   "source": []
  },
  {
   "cell_type": "code",
   "execution_count": null,
   "metadata": {},
   "outputs": [],
   "source": []
  }
 ],
 "metadata": {
  "kernelspec": {
   "display_name": "Python 3",
   "language": "python",
   "name": "python3"
  },
  "language_info": {
   "codemirror_mode": {
    "name": "ipython",
    "version": 3
   },
   "file_extension": ".py",
   "mimetype": "text/x-python",
   "name": "python",
   "nbconvert_exporter": "python",
   "pygments_lexer": "ipython3",
   "version": "3.7.6"
  }
 },
 "nbformat": 4,
 "nbformat_minor": 2
}
